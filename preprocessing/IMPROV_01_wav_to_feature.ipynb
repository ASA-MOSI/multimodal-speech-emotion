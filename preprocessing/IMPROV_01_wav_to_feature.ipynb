{
 "cells": [
  {
   "cell_type": "markdown",
   "metadata": {},
   "source": [
    "# extract audio feature"
   ]
  },
  {
   "cell_type": "markdown",
   "metadata": {},
   "source": [
    "## 01 test sample"
   ]
  },
  {
   "cell_type": "code",
   "execution_count": 13,
   "metadata": {
    "collapsed": true
   },
   "outputs": [],
   "source": [
    "import os\n",
    "import csv"
   ]
  },
  {
   "cell_type": "code",
   "execution_count": 17,
   "metadata": {
    "collapsed": true
   },
   "outputs": [],
   "source": [
    "path = '/home/dato/workspace/emotional_speech_recognition/data/raw/MSP_IMPROV/Audio/session1/S01A/P/'\n",
    "file_name = path + 'MSP-IMPROV-S01A-F01-P-FM01.wav'"
   ]
  },
  {
   "cell_type": "code",
   "execution_count": 18,
   "metadata": {
    "collapsed": false
   },
   "outputs": [],
   "source": [
    "out_file = '../data/processed/MSP_IMPROV/test.csv'"
   ]
  },
  {
   "cell_type": "code",
   "execution_count": 19,
   "metadata": {
    "collapsed": false
   },
   "outputs": [],
   "source": [
    "# cmd = 'SMILExtract -C /home/dato/program/opensmile-2.3.0/config/modified_prosodyShsViterbiLoudness.conf -I ' + file_name + ' -O ' + out_file + ' -headercsv 1'\n",
    "\n",
    "#cmd = 'SMILExtract -C /home/dato/program/opensmile-2.3.0/config/modified_MFCC12_E_D_A_Z.conf -I ' + file_name + ' -O ' + out_file  + ' -headercsv 1'\n",
    "# cmd = 'SMILExtract -C /home/dato/program/opensmile-2.3.0/config/modified_MFCC12_E_D_A.conf -I ' + file_name + ' -csvoutput ' + out_file  + ' -headercsv 0' # MFCC12EDA case\n",
    "\n",
    "cmd = 'SMILExtract -C /home/dato/program/opensmile-2.3.0/config/modified_emobase2010.conf -I ' + file_name + ' -csvoutput ' + out_file  + ' -headercsv 1'"
   ]
  },
  {
   "cell_type": "code",
   "execution_count": 22,
   "metadata": {
    "collapsed": false
   },
   "outputs": [
    {
     "name": "stdout",
     "output_type": "stream",
     "text": [
      "SMILExtract -C /home/dato/program/opensmile-2.3.0/config/modified_emobase2010.conf -I /home/dato/workspace/emotional_speech_recognition/data/raw/MSP_IMPROV/Audio/session1/S01A/P/MSP-IMPROV-S01A-F01-P-FM01.wav -csvoutput ../data/processed/MSP_IMPROV/test.csv -headercsv 1\n"
     ]
    },
    {
     "data": {
      "text/plain": [
       "0"
      ]
     },
     "execution_count": 22,
     "metadata": {},
     "output_type": "execute_result"
    }
   ],
   "source": [
    "print cmd\n",
    "os.system(cmd)"
   ]
  },
  {
   "cell_type": "code",
   "execution_count": 23,
   "metadata": {
    "collapsed": false
   },
   "outputs": [],
   "source": [
    "# lines = []\n",
    "# with open('../data/processed/MSP_IMPROV/processeed_prosody.csv') as f:\n",
    "#     csv_reader = csv.reader(f)\n",
    "#     lines = [x for x in csv_reader]        "
   ]
  },
  {
   "cell_type": "code",
   "execution_count": null,
   "metadata": {
    "collapsed": true
   },
   "outputs": [],
   "source": []
  },
  {
   "cell_type": "markdown",
   "metadata": {},
   "source": [
    "## 01 extract MFCC / prosody / emobase feature from multiple files"
   ]
  },
  {
   "cell_type": "code",
   "execution_count": 1,
   "metadata": {
    "collapsed": false
   },
   "outputs": [],
   "source": [
    "import os\n",
    "import sys\n",
    "import csv\n",
    "from file_util import *"
   ]
  },
  {
   "cell_type": "markdown",
   "metadata": {},
   "source": [
    "### select opensmile configuration"
   ]
  },
  {
   "cell_type": "code",
   "execution_count": 2,
   "metadata": {
    "collapsed": false
   },
   "outputs": [
    {
     "data": {
      "text/plain": [
       "'../data/processed/MSP_IMPROV/prosody.csv'"
      ]
     },
     "execution_count": 2,
     "metadata": {},
     "output_type": "execute_result"
    }
   ],
   "source": [
    "# prosody\n",
    "OPENSMILE_CONFIG_PATH = '~/program/opensmile-2.3.0/config/modified_prosodyShsViterbiLoudness.conf'\n",
    "out_file = '../data/processed/MSP_IMPROV/prosody.csv'\n",
    "\n",
    "    \n",
    "# MFCC E D A    \n",
    "# OPENSMILE_CONFIG_PATH = '/home/dato/program/opensmile-2.3.0/config/modified_MFCC12_E_D_A.conf'    \n",
    "# out_file = '../data/processed/MSP_IMPROV/MFCC12EDA.csv'\n",
    "\n",
    "\n",
    "# MFCC E D A Z\n",
    "# OPENSMILE_CONFIG_PATH = '/home/dato/program/opensmile-2.3.0/config/modified_MFCC12_E_D_A_Z.conf'   # normalized \n",
    "# out_file = '../data/processed/MSP_IMPROV/MFCC12EDAZ.csv'\n",
    "    \n",
    "# emobase2010\n",
    "# OPENSMILE_CONFIG_PATH = '/home/dato/program/opensmile-2.3.0/config/modified_emobase2010.conf'    \n",
    "# out_file = '../data/processed/MSP_IMPROV/emobase2010.csv'\n",
    "    \n",
    "    \n",
    "out_file    "
   ]
  },
  {
   "cell_type": "code",
   "execution_count": null,
   "metadata": {
    "collapsed": true
   },
   "outputs": [],
   "source": []
  },
  {
   "cell_type": "code",
   "execution_count": 3,
   "metadata": {
    "collapsed": false
   },
   "outputs": [],
   "source": [
    "def extract_feature( list_in_file, out_file ) :\n",
    "    print out_file\n",
    "    \n",
    "    cnt = 0    \n",
    "    for in_file in list_in_file:        \n",
    "        cmd = 'SMILExtract -C ' + OPENSMILE_CONFIG_PATH + ' -I ' + in_file + ' -O ' + out_file + ' -headercsv 0'  #MFCC12EDAZ, prosody\n",
    "#         cmd = 'SMILExtract -C ' + OPENSMILE_CONFIG_PATH + ' -I ' + in_file + ' -csvoutput ' + out_file + ' -headercsv 0'   # MFCC12EDA\n",
    "#         cmd = 'SMILExtract -C ' + OPENSMILE_CONFIG_PATH + ' -I ' + in_file + ' -csvoutput ' + out_file + ' -headercsv 0'   # emobase2010\n",
    "        os.system(cmd)\n",
    "        \n",
    "        cnt += 1\n",
    "        if cnt % 1000 == 0:\n",
    "            print str(cnt) + \" / \" + str( len(list_in_file) )\n",
    "            sys.stdout.flush()"
   ]
  },
  {
   "cell_type": "code",
   "execution_count": 4,
   "metadata": {
    "collapsed": false
   },
   "outputs": [
    {
     "name": "stdout",
     "output_type": "stream",
     "text": [
      "../data/processed/MSP_IMPROV/prosody.csv\n",
      "1000 / 8438\n",
      "2000 / 8438\n",
      "3000 / 8438\n",
      "4000 / 8438\n",
      "5000 / 8438\n",
      "6000 / 8438\n",
      "7000 / 8438\n",
      "8000 / 8438\n"
     ]
    }
   ],
   "source": [
    "# [schema] ID, transcriptions [csv]\n",
    "\n",
    "list_files = []\n",
    "\n",
    "path = '../data/raw/MSP_IMPROV/Audio/'\n",
    "file_search(path, list_files)\n",
    "\n",
    "sorted_list = [ [x.split('/')[-1][:-4], x] for x in list_files ]\n",
    "sorted_list = sorted(sorted_list)\n",
    "list_files_id = [ x[0] for x in sorted_list]\n",
    "list_files_file_name = [x[1] for x in sorted_list]\n",
    "\n",
    "extract_feature( list_files_file_name, out_file )"
   ]
  },
  {
   "cell_type": "code",
   "execution_count": null,
   "metadata": {
    "collapsed": false
   },
   "outputs": [],
   "source": []
  },
  {
   "cell_type": "markdown",
   "metadata": {
    "collapsed": false
   },
   "source": [
    "#### extract id from audio_data"
   ]
  },
  {
   "cell_type": "code",
   "execution_count": 5,
   "metadata": {
    "collapsed": false
   },
   "outputs": [],
   "source": [
    "with open('../data/processed/MSP_IMPROV/id_from_audio.txt', 'w') as f:\n",
    "    for x in list_files_id:\n",
    "        f.write( x + '\\n' )"
   ]
  },
  {
   "cell_type": "code",
   "execution_count": null,
   "metadata": {
    "collapsed": false
   },
   "outputs": [],
   "source": []
  },
  {
   "cell_type": "markdown",
   "metadata": {},
   "source": [
    "## 02 verify"
   ]
  },
  {
   "cell_type": "code",
   "execution_count": 6,
   "metadata": {
    "collapsed": true
   },
   "outputs": [],
   "source": [
    "import csv\n",
    "from file_util import *"
   ]
  },
  {
   "cell_type": "code",
   "execution_count": 7,
   "metadata": {
    "collapsed": false
   },
   "outputs": [],
   "source": [
    "in_file = '../data/processed/MSP_IMPROV/id_from_trans.txt'\n",
    "label_trans = []\n",
    "with open( in_file, 'r') as f:\n",
    "    label_trans = f.readlines()\n",
    "label_trans = [x.strip() for x in label_trans]    "
   ]
  },
  {
   "cell_type": "code",
   "execution_count": 8,
   "metadata": {
    "collapsed": false
   },
   "outputs": [],
   "source": [
    "in_file = '../data/processed/MSP_IMPROV/id_from_audio.txt'\n",
    "label_audio = []\n",
    "with open( in_file, 'r') as f:\n",
    "    label_audio = f.readlines()    \n",
    "label_audio = [x.strip() for x in label_audio]"
   ]
  },
  {
   "cell_type": "code",
   "execution_count": 9,
   "metadata": {
    "collapsed": false
   },
   "outputs": [
    {
     "name": "stdout",
     "output_type": "stream",
     "text": [
      "SUCCESS validation\n"
     ]
    }
   ],
   "source": [
    "cnt = 0\n",
    "for l, t in zip(label_trans, label_audio):\n",
    "    if l != t:\n",
    "        cnt += 1\n",
    "if cnt>0 :\n",
    "    print \"ERROR: \" + str(cnt)\n",
    "else :\n",
    "    print \"SUCCESS validation\""
   ]
  },
  {
   "cell_type": "code",
   "execution_count": null,
   "metadata": {
    "collapsed": true
   },
   "outputs": [],
   "source": []
  },
  {
   "cell_type": "markdown",
   "metadata": {},
   "source": [
    "## 03 A MFCC post-process\n",
    "- each row has MFCC feature information (41 dimesion) * audio length --> can be different according to its length\n",
    "- [0]frameIndex; [1]frameTime; were removed from processed feature\n",
    "- (8438, 750, 39)"
   ]
  },
  {
   "cell_type": "code",
   "execution_count": 110,
   "metadata": {
    "collapsed": true
   },
   "outputs": [],
   "source": [
    "import csv\n",
    "import cPickle\n",
    "import numpy as np"
   ]
  },
  {
   "cell_type": "markdown",
   "metadata": {},
   "source": [
    "#### 03-A load MFCC feature"
   ]
  },
  {
   "cell_type": "code",
   "execution_count": 111,
   "metadata": {
    "collapsed": false
   },
   "outputs": [],
   "source": [
    "lines = []\n",
    "# with open('../data/processed/MSP_IMPROV/MFCC12EDAZ.csv') as f:\n",
    "with open('../data/processed/MSP_IMPROV/MFCC12EDA.csv') as f:\n",
    "    csv_reader = csv.reader(f)\n",
    "    lines = [x for x in csv_reader]"
   ]
  },
  {
   "cell_type": "code",
   "execution_count": 112,
   "metadata": {
    "collapsed": false
   },
   "outputs": [
    {
     "name": "stdout",
     "output_type": "stream",
     "text": [
      "3433689\n",
      "541\n"
     ]
    },
    {
     "data": {
      "text/plain": [
       "[\"'unknown';0.000000;-3.609930e+00;9.026229e+00;2.547681e-01;-5.463406e+00;-1.834702e+00;2.698720e+00;1.159871e+01;1.418919e+01;1.050633e+01;3.580090e+00;6.984715e+00;4.497300e+00;1.421603e+01;-6.127123e-01;-1.319952e+00;-1.298531e+00;-4.588038e-01;-2.369876e+00;8.665654e-01;3.195097e+00;1.638633e+00;2.841136e+00;3.032382e+00;2.460721e+00;1.832849e+00;-3.191834e-02;2.138871e-01;1.843904e-01;-2.296742e-02;2.453978e-01;2.646415e-01;-1.864607e-01;-1.344776e+00;-1.925809e-01;3.760855e-02;-2.834120e-02;-1.186853e-01;-4.962853e-01;1.288971e-02\"]"
      ]
     },
     "execution_count": 112,
     "metadata": {},
     "output_type": "execute_result"
    }
   ],
   "source": [
    "print len(lines)\n",
    "print len(lines[0][0])\n",
    "lines[0]"
   ]
  },
  {
   "cell_type": "code",
   "execution_count": null,
   "metadata": {
    "collapsed": false
   },
   "outputs": [],
   "source": []
  },
  {
   "cell_type": "markdown",
   "metadata": {},
   "source": [
    "#### 03-B MFCC feature -> float value"
   ]
  },
  {
   "cell_type": "code",
   "execution_count": 113,
   "metadata": {
    "collapsed": false
   },
   "outputs": [],
   "source": [
    "lines = [x[0] for x in lines]"
   ]
  },
  {
   "cell_type": "code",
   "execution_count": 114,
   "metadata": {
    "collapsed": false
   },
   "outputs": [],
   "source": [
    "lines = [x.split(';') for x in lines]"
   ]
  },
  {
   "cell_type": "code",
   "execution_count": 115,
   "metadata": {
    "collapsed": false
   },
   "outputs": [],
   "source": [
    "float_lines = [ [float(i) for i in x[1:]] for x in lines ]   # do not care the first element ('unknown')"
   ]
  },
  {
   "cell_type": "code",
   "execution_count": null,
   "metadata": {
    "collapsed": false
   },
   "outputs": [],
   "source": []
  },
  {
   "cell_type": "code",
   "execution_count": 116,
   "metadata": {
    "collapsed": true
   },
   "outputs": [],
   "source": [
    "# mark the index of each chunk \n",
    "\n",
    "chunk_index = []\n",
    "for i, line in enumerate(float_lines):\n",
    "    if line[0] == 0:\n",
    "        chunk_index.append(i)"
   ]
  },
  {
   "cell_type": "code",
   "execution_count": 117,
   "metadata": {
    "collapsed": false
   },
   "outputs": [],
   "source": [
    "no_index_float_linex = [ x[2:] for x in lines ]   # remove first two element ('unknown' and sequence index)"
   ]
  },
  {
   "cell_type": "code",
   "execution_count": null,
   "metadata": {
    "collapsed": false
   },
   "outputs": [],
   "source": []
  },
  {
   "cell_type": "code",
   "execution_count": 118,
   "metadata": {
    "collapsed": false
   },
   "outputs": [],
   "source": [
    "# merge sequence \n",
    "\n",
    "list_MFCC = []\n",
    "\n",
    "for i in xrange( len(chunk_index) ):\n",
    "    \n",
    "    if i == len(chunk_index) -1:        # last case\n",
    "        list_MFCC.append( no_index_float_linex[ chunk_index[i]: ] )\n",
    "    else :\n",
    "        list_MFCC.append( no_index_float_linex[ chunk_index[i]:chunk_index[i+1] ] )"
   ]
  },
  {
   "cell_type": "code",
   "execution_count": 119,
   "metadata": {
    "collapsed": false
   },
   "outputs": [
    {
     "data": {
      "text/plain": [
       "8438"
      ]
     },
     "execution_count": 119,
     "metadata": {},
     "output_type": "execute_result"
    }
   ],
   "source": [
    "len(list_MFCC)"
   ]
  },
  {
   "cell_type": "markdown",
   "metadata": {},
   "source": [
    "#### 03-C numpy save  7.5s cut"
   ]
  },
  {
   "cell_type": "code",
   "execution_count": 120,
   "metadata": {
    "collapsed": false
   },
   "outputs": [
    {
     "name": "stdout",
     "output_type": "stream",
     "text": [
      "406.931618867\n",
      "288.912489087\n",
      "3189\n",
      "39\n",
      "8438\n"
     ]
    }
   ],
   "source": [
    "stat = [ len(x) for x in list_MFCC ]\n",
    "print np.mean(stat)\n",
    "print np.std(stat)\n",
    "print np.max(stat)\n",
    "print np.min(stat)\n",
    "print len( list_MFCC )"
   ]
  },
  {
   "cell_type": "code",
   "execution_count": 121,
   "metadata": {
    "collapsed": false
   },
   "outputs": [],
   "source": [
    "# np.save('../data/processed/IEMOCAP/processed_MFCC12EDAZ_sequenceN.npy', np.asarray(stat))\n",
    "np.save('../data/processed/MSP_IMPROV/processed_MFCC12EDA_sequenceN.npy', np.asarray(stat))"
   ]
  },
  {
   "cell_type": "code",
   "execution_count": 122,
   "metadata": {
    "collapsed": false
   },
   "outputs": [],
   "source": [
    "# with open('../data/processed/IEMOCAP/processed_MFCC12EDAZ_sequenceN.txt', 'w') as f:\n",
    "with open('../data/processed/MSP_IMPROV/processed_MFCC12EDA_sequenceN.txt', 'w') as f:\n",
    "    for data in stat:\n",
    "        f.write( str(data) + '\\n' )"
   ]
  },
  {
   "cell_type": "code",
   "execution_count": null,
   "metadata": {
    "collapsed": true
   },
   "outputs": [],
   "source": []
  },
  {
   "cell_type": "code",
   "execution_count": 123,
   "metadata": {
    "collapsed": false
   },
   "outputs": [
    {
     "data": {
      "text/plain": [
       "(8438, 1000, 39)"
      ]
     },
     "execution_count": 123,
     "metadata": {},
     "output_type": "execute_result"
    }
   ],
   "source": [
    "CUT = 1000\n",
    "\n",
    "np_MFCC = np.zeros( [len( list_MFCC ), CUT, 39], dtype=np.float)\n",
    "np.shape(np_MFCC)"
   ]
  },
  {
   "cell_type": "code",
   "execution_count": 124,
   "metadata": {
    "collapsed": false
   },
   "outputs": [],
   "source": [
    "for i in xrange( len(list_MFCC) ):\n",
    "    \n",
    "    if len( list_MFCC[i] ) > CUT:\n",
    "        np_MFCC[i][:] = list_MFCC[i][:CUT]\n",
    "    else:\n",
    "        np_MFCC[i][:len(list_MFCC[i])] = list_MFCC[i][:]"
   ]
  },
  {
   "cell_type": "code",
   "execution_count": 125,
   "metadata": {
    "collapsed": false
   },
   "outputs": [],
   "source": [
    "# np.save('../data/processed/IEMOCAP/processed_MFCC12EDAZ.npy', np_MFCC)\n",
    "np.save('../data/processed/MSP_IMPROV/processed_MFCC12EDA.npy', np_MFCC)"
   ]
  },
  {
   "cell_type": "code",
   "execution_count": 128,
   "metadata": {
    "collapsed": false
   },
   "outputs": [],
   "source": [
    "gogotmp = np.load('../data/processed/MSP_IMPROV/processed_MFCC12EDA.npy')"
   ]
  },
  {
   "cell_type": "code",
   "execution_count": null,
   "metadata": {
    "collapsed": false
   },
   "outputs": [],
   "source": []
  },
  {
   "cell_type": "code",
   "execution_count": null,
   "metadata": {
    "collapsed": false
   },
   "outputs": [],
   "source": []
  },
  {
   "cell_type": "markdown",
   "metadata": {},
   "source": [
    "## 04 prosody post-process\n",
    "- [0]@name string; [36]class numeric; were removed from original feature (total 37)\n",
    "- (8438, 35) "
   ]
  },
  {
   "cell_type": "markdown",
   "metadata": {},
   "source": [
    "#### 04-A load prosody feature  &  conver to np format"
   ]
  },
  {
   "cell_type": "code",
   "execution_count": 20,
   "metadata": {
    "collapsed": false
   },
   "outputs": [
    {
     "name": "stdout",
     "output_type": "stream",
     "text": [
      "8438\n",
      "37\n",
      "[\"'unknown'\", '5.609369e+01', '1.562134e+02', '-5.579678e-01', '4.571930e-01', '8.057990e+01', '2.267393e+02', '1.461594e+02', '7.055344e+00', '2.864598e+01', '-7.188702e-02', '4.687895e-01', '1.841961e+01', '3.651830e+01', '1.809869e+01', '6.058857e-02', '7.685646e-01', '-5.243734e-04', '4.878892e-01', '6.884887e-01', '8.526720e-01', '1.641833e-01', '5.908735e+00', '-2.236514e+00', '-8.132513e-03', '5.731317e-01', '-9.352282e+00', '7.237075e+00', '1.658936e+01', '8.858352e-02', '1.377914e-01', '-9.319513e-05', '4.759388e-01', '7.157311e-02', '2.628319e-01', '1.912588e-01', '?']\n"
     ]
    }
   ],
   "source": [
    "import numpy as np\n",
    "\n",
    "lines = []\n",
    "with open('../data/processed/MSP_IMPROV/prosody.csv') as f:\n",
    "    csv_reader = csv.reader(f)\n",
    "    lines = [x for x in csv_reader]\n",
    "print len(lines)\n",
    "print len(lines[0])\n",
    "print lines[0]"
   ]
  },
  {
   "cell_type": "code",
   "execution_count": null,
   "metadata": {
    "collapsed": false
   },
   "outputs": [],
   "source": []
  },
  {
   "cell_type": "code",
   "execution_count": 21,
   "metadata": {
    "collapsed": false
   },
   "outputs": [
    {
     "data": {
      "text/plain": [
       "(8438, 35)"
      ]
     },
     "execution_count": 21,
     "metadata": {},
     "output_type": "execute_result"
    }
   ],
   "source": [
    "np_prosody = np.zeros( [len(lines), 35], dtype=np.float)\n",
    "np.shape(np_prosody)"
   ]
  },
  {
   "cell_type": "code",
   "execution_count": 22,
   "metadata": {
    "collapsed": false
   },
   "outputs": [],
   "source": [
    "for i in xrange( len(np_prosody) ):\n",
    "    np_prosody[i] = lines[i][1:-1]    "
   ]
  },
  {
   "cell_type": "code",
   "execution_count": 23,
   "metadata": {
    "collapsed": false
   },
   "outputs": [
    {
     "data": {
      "text/plain": [
       "8438"
      ]
     },
     "execution_count": 23,
     "metadata": {},
     "output_type": "execute_result"
    }
   ],
   "source": [
    "len(lines)"
   ]
  },
  {
   "cell_type": "code",
   "execution_count": null,
   "metadata": {
    "collapsed": true
   },
   "outputs": [],
   "source": []
  },
  {
   "cell_type": "markdown",
   "metadata": {},
   "source": [
    "#### 04-B  numpy save"
   ]
  },
  {
   "cell_type": "code",
   "execution_count": 24,
   "metadata": {
    "collapsed": true
   },
   "outputs": [],
   "source": [
    "np.save('../data/processed/MSP_IMPROV/processed_prosody.npy', np_prosody)\n",
    "# aaa = np.load('../data/processed/MSP_IMPROV/processed_prosody.npy')"
   ]
  },
  {
   "cell_type": "code",
   "execution_count": null,
   "metadata": {
    "collapsed": false
   },
   "outputs": [],
   "source": []
  },
  {
   "cell_type": "code",
   "execution_count": null,
   "metadata": {
    "collapsed": true
   },
   "outputs": [],
   "source": []
  },
  {
   "cell_type": "markdown",
   "metadata": {},
   "source": [
    "## 05 emobase2010 post-process\n",
    "- [0]frameTime aws removed from original feature (total 1583)\n",
    "- (8438, 1582) "
   ]
  },
  {
   "cell_type": "markdown",
   "metadata": {},
   "source": [
    "#### 05-A load emobase2010 feature  &  conver to np format"
   ]
  },
  {
   "cell_type": "code",
   "execution_count": 26,
   "metadata": {
    "collapsed": false
   },
   "outputs": [],
   "source": [
    "lines = []\n",
    "with open('../data/processed/MSP_IMPROV/emobase2010.csv') as f:\n",
    "    csv_reader = csv.reader(f)\n",
    "    lines = [x for x in csv_reader]\n",
    "\n",
    "lines = [x[0].split(';') for x in lines]\n",
    "lines = [ [float(t) for t in x] for x in lines]"
   ]
  },
  {
   "cell_type": "code",
   "execution_count": 28,
   "metadata": {
    "collapsed": false
   },
   "outputs": [
    {
     "data": {
      "text/plain": [
       "(10039, 1582)"
      ]
     },
     "execution_count": 28,
     "metadata": {},
     "output_type": "execute_result"
    }
   ],
   "source": [
    "np_emobase = np.zeros( [len(lines), 1582], dtype=np.float)\n",
    "np.shape(np_emobase)"
   ]
  },
  {
   "cell_type": "code",
   "execution_count": 30,
   "metadata": {
    "collapsed": false
   },
   "outputs": [],
   "source": [
    "for i in xrange( len(np_emobase) ):\n",
    "    np_emobase[i] = lines[i][1:]    "
   ]
  },
  {
   "cell_type": "code",
   "execution_count": null,
   "metadata": {
    "collapsed": false
   },
   "outputs": [],
   "source": []
  },
  {
   "cell_type": "markdown",
   "metadata": {},
   "source": [
    "#### 04-B  numpy save"
   ]
  },
  {
   "cell_type": "code",
   "execution_count": 34,
   "metadata": {
    "collapsed": true
   },
   "outputs": [],
   "source": [
    "np.save('../data/processed/MSP_IMPROV/processed_emobase2010.npy', np_emobase)"
   ]
  },
  {
   "cell_type": "code",
   "execution_count": 5,
   "metadata": {
    "collapsed": false
   },
   "outputs": [
    {
     "data": {
      "text/plain": [
       "(10039, 1582)"
      ]
     },
     "execution_count": 5,
     "metadata": {},
     "output_type": "execute_result"
    }
   ],
   "source": [
    "tmp = np.load( '../data/processed/MSP_IMPROV/processed_emobase2010.npy')\n",
    "np.shape(tmp)"
   ]
  },
  {
   "cell_type": "code",
   "execution_count": null,
   "metadata": {
    "collapsed": true
   },
   "outputs": [],
   "source": []
  }
 ],
 "metadata": {
  "kernelspec": {
   "display_name": "Python 2",
   "language": "python",
   "name": "python2"
  },
  "language_info": {
   "codemirror_mode": {
    "name": "ipython",
    "version": 2
   },
   "file_extension": ".py",
   "mimetype": "text/x-python",
   "name": "python",
   "nbconvert_exporter": "python",
   "pygments_lexer": "ipython2",
   "version": "2.7.13"
  }
 },
 "nbformat": 4,
 "nbformat_minor": 2
}
