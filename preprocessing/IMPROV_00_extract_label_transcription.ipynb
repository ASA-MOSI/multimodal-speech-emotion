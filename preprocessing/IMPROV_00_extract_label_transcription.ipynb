{
 "cells": [
  {
   "cell_type": "markdown",
   "metadata": {},
   "source": [
    "# MSP-IMPROV"
   ]
  },
  {
   "cell_type": "markdown",
   "metadata": {},
   "source": [
    "## 01  extract transcript & label"
   ]
  },
  {
   "cell_type": "code",
   "execution_count": 1,
   "metadata": {
    "collapsed": true
   },
   "outputs": [],
   "source": [
    "# import csv\n",
    "# import os\n",
    "# from file_util import *"
   ]
  },
  {
   "cell_type": "code",
   "execution_count": 2,
   "metadata": {
    "collapsed": true
   },
   "outputs": [],
   "source": [
    "# out_file_trans = '../data/processed/MSP_IMPROV/processed_tran.csv'\n",
    "# out_file_label = '../data/processed/MSP_IMPROV/label.csv'"
   ]
  },
  {
   "cell_type": "code",
   "execution_count": 3,
   "metadata": {
    "collapsed": false
   },
   "outputs": [],
   "source": [
    "# def extract_trans( list_in_file, out_file ) :\n",
    "    \n",
    "#     data = []\n",
    "    \n",
    "#     for in_file in list_in_file:\n",
    "#         cnt = 0\n",
    "        \n",
    "#         lines = []\n",
    "#         id = ''\n",
    "#         trans = ''\n",
    "#         label = ''\n",
    "        \n",
    "#         with open(in_file, 'r') as f:\n",
    "#             lines = f.readlines()\n",
    "#             id = in_file.split('/')[-1].split('.')[0]\n",
    "#             trans = lines[0]\n",
    "#             label = in_file.split('/')[-1].split('.')[0][14]  # MSP-IMPROV-S01A-F01-P-FM01\n",
    "            \n",
    "#         id_trans = []\n",
    "#         id_trans.append( id )\n",
    "#         id_trans.append( trans.strip() )\n",
    "#         id_trans.append( label )\n",
    "        \n",
    "#         data.append( id_trans )\n",
    "        \n",
    "#     # trans\n",
    "#     with open(out_file_trans, 'w') as f:\n",
    "\n",
    "#         csv_writer = csv.writer( f )\n",
    "#         data = sorted(data)                  # sort based on first element\n",
    "\n",
    "#         for datum in data:\n",
    "#             csv_writer.writerow([datum[0], datum[1]])\n",
    "            \n",
    "#     # labels\n",
    "#     with open(out_file_label, 'w') as f:\n",
    "\n",
    "#         csv_writer = csv.writer( f )\n",
    "#         data = sorted(data)                  # sort based on first element\n",
    "\n",
    "#         for datum in data:\n",
    "#             csv_writer.writerow([datum[0], datum[2]])            "
   ]
  },
  {
   "cell_type": "code",
   "execution_count": null,
   "metadata": {
    "collapsed": false
   },
   "outputs": [],
   "source": []
  },
  {
   "cell_type": "code",
   "execution_count": 4,
   "metadata": {
    "collapsed": false
   },
   "outputs": [],
   "source": [
    "# # [schema-out_file_trans] ID, transcriptions [csv]\n",
    "# # [schema-out_file_label] ID, label [csv]\n",
    "\n",
    "# list_files = []\n",
    "\n",
    "# path = '../data/raw/MSP_IMPROV/MSP-IMPROV_text/'\n",
    "# file_search(path, list_files)\n",
    "# list_files = sorted(list_files)\n",
    "\n",
    "# print \"#sum files: \" + str(len(list_files))\n",
    "# extract_trans(list_files, out_file)"
   ]
  },
  {
   "cell_type": "code",
   "execution_count": null,
   "metadata": {
    "collapsed": true
   },
   "outputs": [],
   "source": []
  },
  {
   "cell_type": "markdown",
   "metadata": {},
   "source": [
    "## 02 convert label category\n",
    "- angry (A) : 0        A(2511)\n",
    "- happy (H) : 1       H(2267)\n",
    "- sad (S) : 2          S(2035)   \n",
    "- neutral (N) : 3     N(1625)"
   ]
  },
  {
   "cell_type": "code",
   "execution_count": 7,
   "metadata": {
    "collapsed": false
   },
   "outputs": [
    {
     "data": {
      "text/plain": [
       "8438"
      ]
     },
     "execution_count": 7,
     "metadata": {},
     "output_type": "execute_result"
    }
   ],
   "source": [
    "out_file = '../data/processed/MSP_IMPROV/processed_label.txt'\n",
    "\n",
    "lines = []\n",
    "with open('../data/processed/MSP_IMPROV/id_from_trans.txt') as f :\n",
    "    lines = f.readlines()\n",
    "lines = [x.strip() for x in lines]    \n",
    "len(lines)"
   ]
  },
  {
   "cell_type": "code",
   "execution_count": 8,
   "metadata": {
    "collapsed": false
   },
   "outputs": [
    {
     "data": {
      "text/plain": [
       "'MSP-IMPROV-S02H-F03-P-FM01'"
      ]
     },
     "execution_count": 8,
     "metadata": {},
     "output_type": "execute_result"
    }
   ],
   "source": [
    "lines[1000]"
   ]
  },
  {
   "cell_type": "code",
   "execution_count": 9,
   "metadata": {
    "collapsed": false
   },
   "outputs": [],
   "source": [
    "with open(out_file, 'w') as f:\n",
    "    for line in lines:\n",
    "        if line[14] == 'A':\n",
    "            f.write('0\\n')\n",
    "        elif line[14] == 'H':\n",
    "            f.write('1\\n')\n",
    "        elif line[14] == 'S':\n",
    "            f.write('2\\n')\n",
    "        elif line[14] == 'N':\n",
    "            f.write('3\\n')\n",
    "        else :\n",
    "            print 'ERROR no matched class'\n",
    "            f.write('-1\\n')"
   ]
  },
  {
   "cell_type": "code",
   "execution_count": 10,
   "metadata": {
    "collapsed": false
   },
   "outputs": [
    {
     "name": "stdout",
     "output_type": "stream",
     "text": [
      "2511\n",
      "2267\n",
      "2035\n",
      "1625\n"
     ]
    }
   ],
   "source": [
    "lines = []\n",
    "with open(out_file) as f :\n",
    "    lines = f.readlines()\n",
    "lines = [x.strip() for x in lines]\n",
    "\n",
    "print len([x for x in lines if x=='0'])\n",
    "print len([x for x in lines if x=='1'])\n",
    "print len([x for x in lines if x=='2'])\n",
    "print len([x for x in lines if x=='3'])"
   ]
  },
  {
   "cell_type": "code",
   "execution_count": null,
   "metadata": {
    "collapsed": false
   },
   "outputs": [],
   "source": []
  },
  {
   "cell_type": "markdown",
   "metadata": {},
   "source": [
    "## 03 verify"
   ]
  },
  {
   "cell_type": "code",
   "execution_count": 12,
   "metadata": {
    "collapsed": true
   },
   "outputs": [],
   "source": [
    "# import csv"
   ]
  },
  {
   "cell_type": "code",
   "execution_count": 13,
   "metadata": {
    "collapsed": false
   },
   "outputs": [],
   "source": [
    "# in_file = '../data/raw/MSP_G_SPEECH_MS_merge.csv'\n",
    "# tran = []\n",
    "# with open( in_file, 'r') as f:\n",
    "#     csv_reader = csv.reader( f )\n",
    "#     tran = [x for x in csv_reader]\n",
    "    \n",
    "# tran_id = [ x[0] for x in tran]"
   ]
  },
  {
   "cell_type": "code",
   "execution_count": 14,
   "metadata": {
    "collapsed": false
   },
   "outputs": [],
   "source": [
    "# in_file = '../data/processed/MSP_IMPROV/id_from_audio.txt'\n",
    "# label = []\n",
    "# with open( in_file, 'r') as f:\n",
    "#     label = f.readlines()\n",
    "# label = [x.strip() for x in label]    \n",
    "    \n",
    "# label_id = [ x[0] for x in label]"
   ]
  },
  {
   "cell_type": "code",
   "execution_count": null,
   "metadata": {
    "collapsed": false
   },
   "outputs": [],
   "source": []
  },
  {
   "cell_type": "code",
   "execution_count": 15,
   "metadata": {
    "collapsed": false
   },
   "outputs": [],
   "source": [
    "# for l, t in zip(label_id, tran_id):\n",
    "#     if l != t:\n",
    "#         print 'ERROR'"
   ]
  },
  {
   "cell_type": "code",
   "execution_count": 16,
   "metadata": {
    "collapsed": true
   },
   "outputs": [],
   "source": [
    "# in_file = '../data/processed/MSP_IMPROV/label.csv'\n",
    "# label = []\n",
    "# with open( in_file, 'r') as f:\n",
    "#     csv_reader = csv.reader( f )\n",
    "#     label = [x for x in csv_reader]\n",
    "    \n",
    "# label_id = [ (x[0]+'\\n') for x in label]"
   ]
  },
  {
   "cell_type": "code",
   "execution_count": 17,
   "metadata": {
    "collapsed": false
   },
   "outputs": [],
   "source": [
    "# with open('../data/processed/MSP_IMPROV/id_from_trans.txt', 'w') as f:\n",
    "#     f.write(''.join(label_id))"
   ]
  },
  {
   "cell_type": "code",
   "execution_count": null,
   "metadata": {
    "collapsed": true
   },
   "outputs": [],
   "source": []
  },
  {
   "cell_type": "markdown",
   "metadata": {},
   "source": [
    "## 04 statistics"
   ]
  },
  {
   "cell_type": "code",
   "execution_count": 18,
   "metadata": {
    "collapsed": true
   },
   "outputs": [],
   "source": [
    "import numpy as np\n",
    "import csv"
   ]
  },
  {
   "cell_type": "code",
   "execution_count": 19,
   "metadata": {
    "collapsed": false
   },
   "outputs": [],
   "source": [
    "in_file = '../data/processed/MSP_IMPROV/id_from_trans.txt'\n",
    "label = []\n",
    "with open( in_file, 'r') as f:\n",
    "    label = f.readlines()\n",
    "    \n",
    "label = [x.strip() for x in label]\n",
    "    \n",
    "label_cat = [ x[14] for x in label]"
   ]
  },
  {
   "cell_type": "code",
   "execution_count": 20,
   "metadata": {
    "collapsed": true
   },
   "outputs": [],
   "source": [
    "list_category = [\n",
    "                'A',\n",
    "                'H',\n",
    "                'S',\n",
    "                'N'\n",
    "                ]\n",
    "\n",
    "category = {}\n",
    "for c_type in list_category:\n",
    "    if category.has_key(c_type):\n",
    "        ;\n",
    "    else:\n",
    "        category[c_type] = len(category)"
   ]
  },
  {
   "cell_type": "code",
   "execution_count": 21,
   "metadata": {
    "collapsed": false
   },
   "outputs": [],
   "source": [
    "count = np.zeros( len(category), dtype=np.int )\n",
    "\n",
    "for cat in label_cat:\n",
    "    count[ category[cat] ] = count[ category[cat] ] + 1"
   ]
  },
  {
   "cell_type": "code",
   "execution_count": 22,
   "metadata": {
    "collapsed": false
   },
   "outputs": [
    {
     "name": "stdout",
     "output_type": "stream",
     "text": [
      "A\t:2511\n",
      "H\t:2267\n",
      "S\t:2035\n",
      "N\t:1625\n"
     ]
    }
   ],
   "source": [
    "for key in category.keys():\n",
    "    print key + '\\t:' + str(count[ category[key] ])"
   ]
  },
  {
   "cell_type": "code",
   "execution_count": null,
   "metadata": {
    "collapsed": false
   },
   "outputs": [],
   "source": []
  },
  {
   "cell_type": "code",
   "execution_count": null,
   "metadata": {
    "collapsed": true
   },
   "outputs": [],
   "source": []
  }
 ],
 "metadata": {
  "kernelspec": {
   "display_name": "Python 2",
   "language": "python",
   "name": "python2"
  },
  "language_info": {
   "codemirror_mode": {
    "name": "ipython",
    "version": 2
   },
   "file_extension": ".py",
   "mimetype": "text/x-python",
   "name": "python",
   "nbconvert_exporter": "python",
   "pygments_lexer": "ipython2",
   "version": "2.7.13"
  }
 },
 "nbformat": 4,
 "nbformat_minor": 2
}
