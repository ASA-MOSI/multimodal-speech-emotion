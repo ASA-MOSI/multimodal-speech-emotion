{
 "cells": [
  {
   "cell_type": "markdown",
   "metadata": {
    "collapsed": true
   },
   "source": [
    "## Google Cloud API"
   ]
  },
  {
   "cell_type": "code",
   "execution_count": 1,
   "metadata": {
    "collapsed": true
   },
   "outputs": [],
   "source": [
    "import io\n",
    "import os\n",
    "import csv\n",
    "from time import sleep\n",
    "from random import *\n",
    "from file_util import *\n",
    "\n",
    "# Imports the Google Cloud client library\n",
    "from google.cloud import speech\n",
    "from google.cloud.speech import enums\n",
    "from google.cloud.speech import types\n",
    "\n",
    "# Instantiates a client\n",
    "client = speech.SpeechClient()"
   ]
  },
  {
   "cell_type": "code",
   "execution_count": 2,
   "metadata": {
    "collapsed": true
   },
   "outputs": [],
   "source": [
    "# The name of the audio file to transcribe\n",
    "file_name = '../data/raw/IEMOCAP_full_release/Session1/sentences/wav/Ses01F_impro02/Ses01F_impro02_M011.wav'"
   ]
  },
  {
   "cell_type": "code",
   "execution_count": null,
   "metadata": {
    "collapsed": false
   },
   "outputs": [],
   "source": []
  },
  {
   "cell_type": "markdown",
   "metadata": {},
   "source": [
    "#### IEMOCAP"
   ]
  },
  {
   "cell_type": "code",
   "execution_count": 54,
   "metadata": {
    "collapsed": false
   },
   "outputs": [],
   "source": [
    "# list_files = []\n",
    "\n",
    "# for x in xrange(5):\n",
    "#     sess_name = 'Session' + str(x+1)\n",
    "\n",
    "#     path = '../data/raw/IEMOCAP_full_release/' + sess_name + '/sentences/wav/'\n",
    "#     file_search(path, list_files)\n",
    "#     list_files = sorted(list_files)\n",
    "\n",
    "#     print sess_name + \", #sum files: \" + str(len(list_files))"
   ]
  },
  {
   "cell_type": "markdown",
   "metadata": {},
   "source": [
    "#### MSP-IMPROV"
   ]
  },
  {
   "cell_type": "code",
   "execution_count": 3,
   "metadata": {
    "collapsed": false
   },
   "outputs": [
    {
     "data": {
      "text/plain": [
       "8438"
      ]
     },
     "execution_count": 3,
     "metadata": {},
     "output_type": "execute_result"
    }
   ],
   "source": [
    "list_files = []\n",
    "\n",
    "path = '../data/raw/MSP_IMPROV/Audio/'\n",
    "file_search(path, list_files)\n",
    "list_files = sorted(list_files)\n",
    "len(list_files)"
   ]
  },
  {
   "cell_type": "code",
   "execution_count": null,
   "metadata": {
    "collapsed": false
   },
   "outputs": [],
   "source": []
  },
  {
   "cell_type": "code",
   "execution_count": null,
   "metadata": {
    "collapsed": false
   },
   "outputs": [],
   "source": []
  },
  {
   "cell_type": "code",
   "execution_count": null,
   "metadata": {
    "collapsed": true
   },
   "outputs": [],
   "source": []
  },
  {
   "cell_type": "markdown",
   "metadata": {
    "collapsed": true
   },
   "source": [
    "## RUN"
   ]
  },
  {
   "cell_type": "code",
   "execution_count": 4,
   "metadata": {
    "collapsed": false
   },
   "outputs": [],
   "source": [
    "def get_trans( target_files, result_file_name ) :\n",
    "\n",
    "    cnt = 0\n",
    "\n",
    "    for file_name in target_files:\n",
    "\n",
    "        # Loads the audio into memory\n",
    "        with io.open(file_name, 'rb') as audio_file:\n",
    "            content = audio_file.read()\n",
    "            audio = types.RecognitionAudio(content=content)\n",
    "\n",
    "        config = types.RecognitionConfig(\n",
    "#             encoding=enums.RecognitionConfig.AudioEncoding.LINEAR16,\n",
    "#             sample_rate_hertz=16000,\n",
    "            \n",
    "#             encoding=enums.RecognitionConfig.AudioEncoding.ENCODING_UNSPECIFIED,\n",
    "#             sample_rate_hertz=48000,\n",
    "            language_code='en-US')\n",
    "\n",
    "        # Detects speech in the audio file\n",
    "        response = client.recognize(config, audio)\n",
    "\n",
    "\n",
    "        ff = open(result_file_name, 'a')\n",
    "        writer = csv.writer(ff)\n",
    "\n",
    "        ret_trans = None\n",
    "        ret_confidence = None\n",
    "        \n",
    "        for result in response.results:\n",
    "            ret_trans      = result.alternatives[0].transcript\n",
    "            ret_confidence = result.alternatives[0].confidence\n",
    "#             print 'Transcript: {}'.format(ret_trans)\n",
    "#             print 'Transcript: {}'.format(ret_confidence)\n",
    "        \n",
    "        writer.writerow([file_name.split('/')[-1][:-4], ret_trans, ret_confidence])    \n",
    "        cnt += 1\n",
    "        sleep( (random()/10) )\n",
    "        \n",
    "        if (cnt % 500 == 0) :\n",
    "            print cnt\n",
    "\n",
    "        ff.close()    "
   ]
  },
  {
   "cell_type": "code",
   "execution_count": 61,
   "metadata": {
    "collapsed": false
   },
   "outputs": [],
   "source": [
    "# sample = []\n",
    "# sample.append(list_files[2])\n",
    "# print list_files[2]\n",
    "\n",
    "# get_trans( sample, '../data/raw/MSP_G_SPEECH.csv')"
   ]
  },
  {
   "cell_type": "code",
   "execution_count": 108,
   "metadata": {
    "collapsed": false
   },
   "outputs": [
    {
     "name": "stdout",
     "output_type": "stream",
     "text": [
      "8438\n",
      "500\n",
      "1000\n",
      "1500\n"
     ]
    }
   ],
   "source": [
    "print len(list_files)\n",
    "get_trans( list_files[6731:], '../data/raw/MSP_G_SPEECH.csv')"
   ]
  },
  {
   "cell_type": "code",
   "execution_count": null,
   "metadata": {
    "collapsed": false
   },
   "outputs": [],
   "source": []
  },
  {
   "cell_type": "code",
   "execution_count": 107,
   "metadata": {
    "collapsed": false
   },
   "outputs": [
    {
     "data": {
      "text/plain": [
       "'../data/raw/MSP_IMPROV/Audio/session5/S15A/S/MSP-IMPROV-S15A-F05-S-FM01.wav'"
      ]
     },
     "execution_count": 107,
     "metadata": {},
     "output_type": "execute_result"
    }
   ],
   "source": [
    "list_files[6730]"
   ]
  },
  {
   "cell_type": "code",
   "execution_count": 76,
   "metadata": {
    "collapsed": true
   },
   "outputs": [],
   "source": []
  },
  {
   "cell_type": "code",
   "execution_count": null,
   "metadata": {
    "collapsed": false
   },
   "outputs": [],
   "source": []
  },
  {
   "cell_type": "code",
   "execution_count": null,
   "metadata": {
    "collapsed": false
   },
   "outputs": [],
   "source": []
  },
  {
   "cell_type": "code",
   "execution_count": null,
   "metadata": {
    "collapsed": false
   },
   "outputs": [],
   "source": []
  },
  {
   "cell_type": "markdown",
   "metadata": {},
   "source": [
    "#### for missing files"
   ]
  },
  {
   "cell_type": "code",
   "execution_count": 34,
   "metadata": {
    "collapsed": false
   },
   "outputs": [],
   "source": [
    "missing_full_path = []\n",
    "\n",
    "for x, id in enumerate(target_files) :\n",
    "    if id.split('/')[-1][:-4] in missing_id:\n",
    "        missing_full_path.append(  id  )"
   ]
  },
  {
   "cell_type": "code",
   "execution_count": 110,
   "metadata": {
    "collapsed": false
   },
   "outputs": [
    {
     "data": {
      "text/plain": [
       "'../data/raw/IEMOCAP_full_release/Session5/sentences/wav/Ses05M_impro04/Ses05M_impro04_F009.wav'"
      ]
     },
     "execution_count": 110,
     "metadata": {},
     "output_type": "execute_result"
    }
   ],
   "source": [
    "missing_full_path[0]"
   ]
  },
  {
   "cell_type": "code",
   "execution_count": 111,
   "metadata": {
    "collapsed": false
   },
   "outputs": [],
   "source": [
    "get_trans( missing_full_path, '../data/raw/IEMOCAP_G_SPEECH_missing.csv')"
   ]
  },
  {
   "cell_type": "code",
   "execution_count": null,
   "metadata": {
    "collapsed": true
   },
   "outputs": [],
   "source": []
  },
  {
   "cell_type": "code",
   "execution_count": 109,
   "metadata": {
    "collapsed": false
   },
   "outputs": [],
   "source": [
    "# The name of the audio file to transcribe\n",
    "missing_full_path = []\n",
    "missing_full_path.append( '../data/raw/IEMOCAP_full_release/Session5/sentences/wav/Ses05M_impro04/Ses05M_impro04_F009.wav' )\n",
    "# missing_full_path.append( '../data/raw/IEMOCAP_full_release/Session1/sentences/wav/Ses01F_impro02/Ses01F_impro02_F000.wav' )"
   ]
  },
  {
   "cell_type": "code",
   "execution_count": null,
   "metadata": {
    "collapsed": true
   },
   "outputs": [],
   "source": []
  },
  {
   "cell_type": "code",
   "execution_count": null,
   "metadata": {
    "collapsed": true
   },
   "outputs": [],
   "source": []
  },
  {
   "cell_type": "code",
   "execution_count": null,
   "metadata": {
    "collapsed": true
   },
   "outputs": [],
   "source": []
  },
  {
   "cell_type": "markdown",
   "metadata": {},
   "source": [
    "### IEMOCAP merge multi-processed transcription"
   ]
  },
  {
   "cell_type": "code",
   "execution_count": 50,
   "metadata": {
    "collapsed": true
   },
   "outputs": [],
   "source": [
    "speech_ = []\n",
    "speech_id = []\n",
    "speech_trans = []\n",
    "with open( '../data/raw/IEMOCAP_G_SPEECH.csv') as f:\n",
    "    reader = csv.reader(f)\n",
    "    speech_ = [ [x[0], x[1]] for x in reader ]        \n",
    "\n",
    "speech_id = [ x[0] for x in speech_ ]\n",
    "speech_trans = [ x[1] for x in speech_ ]"
   ]
  },
  {
   "cell_type": "code",
   "execution_count": null,
   "metadata": {
    "collapsed": false
   },
   "outputs": [],
   "source": []
  },
  {
   "cell_type": "code",
   "execution_count": 51,
   "metadata": {
    "collapsed": false
   },
   "outputs": [],
   "source": [
    "with open('../data/raw/IEMOCAP_G_SPEECH_merge.csv', 'w') as f:\n",
    "\n",
    "    writer = csv.writer(f)\n",
    "\n",
    "    sent = ''\n",
    "    for i, id in enumerate(speech_id):\n",
    "\n",
    "        # last case\n",
    "        if i == len(speech_id)-1 :\n",
    "            sent = sent + speech_trans[i]\n",
    "            writer.writerow( [speech_id[i], sent] )\n",
    "            break\n",
    "            \n",
    "        if speech_id[i] == speech_id[i+1] :\n",
    "            sent = sent + speech_trans[i]\n",
    "        \n",
    "        else :\n",
    "            sent = sent + speech_trans[i]\n",
    "            writer.writerow( [speech_id[i], sent] )\n",
    "            sent = ''"
   ]
  },
  {
   "cell_type": "code",
   "execution_count": null,
   "metadata": {
    "collapsed": false
   },
   "outputs": [],
   "source": []
  },
  {
   "cell_type": "code",
   "execution_count": 52,
   "metadata": {
    "collapsed": false
   },
   "outputs": [],
   "source": [
    "missing_id = []"
   ]
  },
  {
   "cell_type": "code",
   "execution_count": 59,
   "metadata": {
    "collapsed": false
   },
   "outputs": [],
   "source": [
    "tmp_id = []\n",
    "with open('../data/processed/IEMOCAP/processed_ids.txt') as f:\n",
    "    tmp_id = f.readlines()\n",
    "tmp_id = [ x.strip() for x in tmp_id]    "
   ]
  },
  {
   "cell_type": "code",
   "execution_count": 60,
   "metadata": {
    "collapsed": false
   },
   "outputs": [],
   "source": [
    "for id in tmp_id:\n",
    "    if id not in speech_id:\n",
    "        missing_id.append(id)"
   ]
  },
  {
   "cell_type": "code",
   "execution_count": 61,
   "metadata": {
    "collapsed": false
   },
   "outputs": [
    {
     "data": {
      "text/plain": [
       "529"
      ]
     },
     "execution_count": 61,
     "metadata": {},
     "output_type": "execute_result"
    }
   ],
   "source": [
    "len(missing_id)"
   ]
  },
  {
   "cell_type": "code",
   "execution_count": null,
   "metadata": {
    "collapsed": true
   },
   "outputs": [],
   "source": [
    "../data/raw/IEMOCAP_full_release/Session5/sentences/wav/Ses05M_impro04/Ses05M_impro04_F009.wav"
   ]
  },
  {
   "cell_type": "code",
   "execution_count": null,
   "metadata": {
    "collapsed": false
   },
   "outputs": [],
   "source": []
  },
  {
   "cell_type": "code",
   "execution_count": null,
   "metadata": {
    "collapsed": false
   },
   "outputs": [],
   "source": []
  },
  {
   "cell_type": "markdown",
   "metadata": {
    "collapsed": true
   },
   "source": [
    "## merge trans"
   ]
  },
  {
   "cell_type": "code",
   "execution_count": 119,
   "metadata": {
    "collapsed": false
   },
   "outputs": [
    {
     "data": {
      "text/plain": [
       "5002"
      ]
     },
     "execution_count": 119,
     "metadata": {},
     "output_type": "execute_result"
    }
   ],
   "source": [
    "speech_ = []\n",
    "with open( '../data/raw/IEMOCAP_G_SPEECH_merge.csv') as f:\n",
    "    reader = csv.reader(f)\n",
    "    speech_ = [ [x[0], x[1]] for x in reader ]        \n",
    "len(speech_)"
   ]
  },
  {
   "cell_type": "code",
   "execution_count": 120,
   "metadata": {
    "collapsed": false
   },
   "outputs": [
    {
     "data": {
      "text/plain": [
       "5531"
      ]
     },
     "execution_count": 120,
     "metadata": {},
     "output_type": "execute_result"
    }
   ],
   "source": [
    "trans = []\n",
    "with open('../data/processed/IEMOCAP/processed_ids.txt') as f:\n",
    "    reader = csv.reader(f)\n",
    "    trans = [ x for x in reader ]\n",
    "    \n",
    "for id, text in trans:\n",
    "    if id in missing_id:\n",
    "        speech_.append( [id, text] )\n",
    "        \n",
    "speech_ = sorted(speech_)\n",
    "\n",
    "len(speech_)            "
   ]
  },
  {
   "cell_type": "code",
   "execution_count": 107,
   "metadata": {
    "collapsed": false
   },
   "outputs": [],
   "source": [
    "with open('../data/processed/IEMOCAP/processed_tran_fromG.csv', 'w')  as f:\n",
    "    writer = csv.writer(f)\n",
    "    for id, text in speech_:\n",
    "        writer.writerow( [id, text] )"
   ]
  },
  {
   "cell_type": "code",
   "execution_count": null,
   "metadata": {
    "collapsed": true
   },
   "outputs": [],
   "source": []
  },
  {
   "cell_type": "code",
   "execution_count": 132,
   "metadata": {
    "collapsed": true
   },
   "outputs": [],
   "source": [
    "# validate \n",
    "\n",
    "list1 = []\n",
    "list2 =[]\n",
    "with open('../data/processed/IEMOCAP/processed_ids.txt') as f:\n",
    "    list1 = f.readlines()\n",
    "list1 = [x.strip() for x in list1]    \n",
    "    \n",
    "with open('../data/processed/IEMOCAP/processed_tran_fromG.csv') as f:\n",
    "    reader = csv.reader(f)\n",
    "    list2 = [ x[0] for x in reader ]    "
   ]
  },
  {
   "cell_type": "code",
   "execution_count": 133,
   "metadata": {
    "collapsed": false
   },
   "outputs": [],
   "source": [
    "for x in xrange( len(list1 )) :\n",
    "    if list1[x] != list2[x]:\n",
    "        print list1[x], list2[x]"
   ]
  },
  {
   "cell_type": "code",
   "execution_count": null,
   "metadata": {
    "collapsed": false
   },
   "outputs": [],
   "source": []
  },
  {
   "cell_type": "code",
   "execution_count": null,
   "metadata": {
    "collapsed": false
   },
   "outputs": [],
   "source": []
  },
  {
   "cell_type": "markdown",
   "metadata": {
    "collapsed": true
   },
   "source": [
    "## merge - MSP G and MS"
   ]
  },
  {
   "cell_type": "code",
   "execution_count": 5,
   "metadata": {
    "collapsed": false
   },
   "outputs": [
    {
     "data": {
      "text/plain": [
       "8438"
      ]
     },
     "execution_count": 5,
     "metadata": {},
     "output_type": "execute_result"
    }
   ],
   "source": [
    "g_trans = []\n",
    "with open('../data/raw/MSP_G_SPEECH.csv') as f:\n",
    "    reader = csv.reader(f)\n",
    "    g_trans = [ x for x in reader ]\n",
    "len(g_trans)    "
   ]
  },
  {
   "cell_type": "code",
   "execution_count": 6,
   "metadata": {
    "collapsed": false
   },
   "outputs": [],
   "source": [
    "ms_files = []\n",
    "ms_trans = []\n",
    "file_search('../data/raw/MSP_IMPROV/MSP-IMPROV_text/', ms_files)\n",
    "len(ms_files)\n",
    "\n",
    "for x in ms_files:\n",
    "    with open(x) as f:\n",
    "        ms_trans.append( [ x.split('/')[-1][:-4], f.readlines()[0].strip() ]  )\n",
    "\n",
    "ms_ids = [ x[0].strip() for x in ms_trans ]"
   ]
  },
  {
   "cell_type": "code",
   "execution_count": null,
   "metadata": {
    "collapsed": false
   },
   "outputs": [],
   "source": []
  },
  {
   "cell_type": "code",
   "execution_count": 7,
   "metadata": {
    "collapsed": false
   },
   "outputs": [],
   "source": [
    "new_g_trans = []\n",
    "for x in g_trans:\n",
    "    if x[1] != '':\n",
    "        new_g_trans.append([x[0], x[1], x[2]])\n",
    "    else:\n",
    "        find_data = '_NA_'\n",
    "        for data in ms_trans:\n",
    "            if x[0] == data[0]:\n",
    "                find_data = data[1]\n",
    "        x[1] = find_data\n",
    "        x[2] = 0.000\n",
    "        new_g_trans.append([x[0], x[1], x[2]])\n",
    "\n",
    "new_g_trans = sorted(new_g_trans)"
   ]
  },
  {
   "cell_type": "code",
   "execution_count": 8,
   "metadata": {
    "collapsed": false
   },
   "outputs": [],
   "source": [
    "with open('../data/raw/MSP_G_SPEECH_MS_merge.csv', 'w') as f:\n",
    "    writer = csv.writer(f)\n",
    "    for x in new_g_trans:\n",
    "        writer.writerow( [x[0], x[1], x[2] ])        "
   ]
  },
  {
   "cell_type": "code",
   "execution_count": 10,
   "metadata": {
    "collapsed": true
   },
   "outputs": [],
   "source": [
    "with open('../data/processed/MSP_IMPROV/id_from_trans.txt', 'w') as f:\n",
    "    for x in new_g_trans:\n",
    "        f.write( x[0] + '\\n')"
   ]
  },
  {
   "cell_type": "code",
   "execution_count": null,
   "metadata": {
    "collapsed": true
   },
   "outputs": [],
   "source": []
  },
  {
   "cell_type": "code",
   "execution_count": 205,
   "metadata": {
    "collapsed": false
   },
   "outputs": [
    {
     "data": {
      "text/plain": [
       "640"
      ]
     },
     "execution_count": 205,
     "metadata": {},
     "output_type": "execute_result"
    }
   ],
   "source": [
    "miss_G = []\n",
    "miss_G = [ x for x in g_trains if x[1] == '']\n",
    "len(miss_G)"
   ]
  },
  {
   "cell_type": "code",
   "execution_count": 206,
   "metadata": {
    "collapsed": false
   },
   "outputs": [
    {
     "data": {
      "text/plain": [
       "453"
      ]
     },
     "execution_count": 206,
     "metadata": {},
     "output_type": "execute_result"
    }
   ],
   "source": [
    "new_miss_G = []\n",
    "new_miss_G = [ x for x in new_g_trans if x[1] == '_NA_']\n",
    "len(new_miss_G)"
   ]
  },
  {
   "cell_type": "code",
   "execution_count": null,
   "metadata": {
    "collapsed": false
   },
   "outputs": [],
   "source": []
  },
  {
   "cell_type": "code",
   "execution_count": 207,
   "metadata": {
    "collapsed": true
   },
   "outputs": [],
   "source": []
  },
  {
   "cell_type": "code",
   "execution_count": null,
   "metadata": {
    "collapsed": true
   },
   "outputs": [],
   "source": []
  }
 ],
 "metadata": {
  "kernelspec": {
   "display_name": "Python 2",
   "language": "python",
   "name": "python2"
  },
  "language_info": {
   "codemirror_mode": {
    "name": "ipython",
    "version": 2
   },
   "file_extension": ".py",
   "mimetype": "text/x-python",
   "name": "python",
   "nbconvert_exporter": "python",
   "pygments_lexer": "ipython2",
   "version": "2.7.13"
  }
 },
 "nbformat": 4,
 "nbformat_minor": 2
}
